{
 "cells": [
  {
   "cell_type": "markdown",
   "metadata": {},
   "source": [
    "<style>\n",
    "  h1 {\n",
    "    text-align:center;\n",
    "    margin-bottom:-10px;\n",
    "  }\n",
    "  p {\n",
    "    text-align:center;\n",
    "  }\n",
    "  .margin-bottom {\n",
    "    margin-top:10px;\n",
    "  }\n",
    "  .main {\n",
    "    background-color: purple;\n",
    "    color: white;\n",
    "    border-radius: 10px;\n",
    "\n",
    "  }\n",
    "  .background {\n",
    "    \n",
    "    background-color: yellow;\n",
    "    margin-bottom: 30px;\n",
    "    border-radius: 10px;\n",
    "    padding:20px;\n",
    "  }\n",
    "\n",
    "  li {\n",
    "    color: black;\n",
    "    padding: 2px;\n",
    "  }\n",
    "\n",
    "  button {\n",
    "    margin-bottom:10px;\n",
    "    margin-left:10px;\n",
    "    background-color: blue;\n",
    "    padding:10px;\n",
    "    border-radius: 5px;\n",
    "  }\n",
    "\n",
    "ul.background {\n",
    "    list-style-type: none;\n",
    "    padding: 0;\n",
    "}\n",
    "\n",
    "ul.background li {\n",
    "    position: relative;\n",
    "    padding-left: 25px; /* Space for the checkbox */\n",
    "    line-height: 1.5; /* For better spacing */\n",
    "    margin-bottom: 10px;\n",
    "}\n",
    "\n",
    "ul.background input[type=\"checkbox\"] {\n",
    "    position: absolute;\n",
    "    left: 0;\n",
    "    top: 50%;\n",
    "    transform: translateY(-50%);\n",
    "    margin-right: 10px;\n",
    "}\n",
    "\n",
    "ul.background li span {\n",
    "    position: relative;\n",
    "    display: inline-block;\n",
    "}\n",
    "\n",
    "ul.background li span::before {\n",
    "    content: '';\n",
    "    position: absolute;\n",
    "    left: 0;\n",
    "    bottom: 40%;\n",
    "    width: 100%;\n",
    "    height: 1px;\n",
    "    background-color: black;\n",
    "    transform: scaleX(0);\n",
    "    transform-origin: left;\n",
    "    transition: transform 0.3s ease;\n",
    "}\n",
    "\n",
    "ul.background input[type=\"checkbox\"]:checked + span::before {\n",
    "    transform: scaleX(1);\n",
    "}\n",
    "\n",
    " \n",
    "</style>\n",
    "\n",
    "<div class='main'>\n",
    "\n",
    "# **Sampling** \n",
    "The process of selecting a subset of data from a population\n",
    "\n",
    "\n",
    "<ul class='background'>\n",
    "        <li><input type=\"checkbox\"><span>Representative sample</span></li>\n",
    "        <li><input type=\"checkbox\"><span>The sampling process</span></li>\n",
    "        <li class=\"margin-bottom\"> Sampling methods \n",
    "            <ul>\n",
    "                <li><input type=\"checkbox\"><span>Probability sampling</span></li>\n",
    "                <li><input type=\"checkbox\"><span>Non-Probability sampling</span></li>\n",
    "            </ul>\n",
    "        </li>\n",
    "        <li><input type='checkbox'><span>Bias</span></li>\n",
    "        <li class=\"margin-bottom\">sampling distributions\n",
    "            <ul>\n",
    "                <li><input type='checkbox'><span>Means</span></li>\n",
    "                <li><input type='checkbox'><span>proportions</span></li>\n",
    "            </ul>\n",
    "        </li>\n",
    "        <li><input type='checkbox'><span>Central Limit Theorem</span></li>\n",
    "        <li><input type='checkbox'><span>Python Implementation of CLT</span></li>\n",
    "        <li><input type='checkbox'><span>Confidence interval</span></li>\n",
    "</ul>\n",
    "\n",
    "<button> [GO BOTTOM](#bottom) </button>\n",
    "</div>\n",
    "<a id = 'top'></a>"
   ]
  },
  {
   "cell_type": "markdown",
   "metadata": {},
   "source": [
    "### **Representative sample:**\n",
    "accurately reflects the characteristics of a population"
   ]
  },
  {
   "cell_type": "markdown",
   "metadata": {},
   "source": [
    "----\n",
    "### **The sampling process :**\n",
    "- identify the target population: the complete set of elements that you're interested in knowing\n",
    "\n",
    "- select the sampling frame: a list of all the items in your target population\n",
    "\n",
    "- choose the sampling method: users random selection or based on convenience\n",
    "\n",
    "- determine the sample size: the no of individuals or items chosen for a study or experiment\n",
    "\n",
    "- collect the sample data: surveys or anythoer ways to collect the data"
   ]
  },
  {
   "cell_type": "markdown",
   "metadata": {},
   "source": [
    "----\n",
    "### **probability sampling methods :**\n",
    "* **simple random sampling :** every menber of a population is selected randomly and has an equal chance of being choosen\n",
    "\n",
    "        - representative & avoid bias\n",
    "\n",
    "* **stratified random sampling :** Divide a population into groups and randomly select some members from each group to be in the sample\n",
    "        \n",
    "        - Members from each group are included in survey\n",
    "\n",
    "* **cluster random sampling :** divide a population into clusters, randomly select certain clusters, and include all members from the chosen clusters in the smaple\n",
    "\n",
    "        - helpful when dealing with large and diverse populations \n",
    "\n",
    "* **systematic random sampling :** put every member of a population into an order sequence. Then, you choose a random starting point in the sequence and select members from your sample at regular intervals\n",
    "\n",
    "        - representative, quick & convenient\n",
    "        - but before you begin you need to know the size of the population \n"
   ]
  },
  {
   "cell_type": "markdown",
   "metadata": {},
   "source": [
    "> ##### **sampling bias :** when a sample is not representative of the population as a whole\n",
    "\n"
   ]
  },
  {
   "cell_type": "markdown",
   "metadata": {},
   "source": [
    "----\n",
    "### **Non-probability sampling :**\n",
    "is often less expensive and more convenient for researchers to conduct\n",
    "\n",
    "* **convenience sampling :** \n",
    "choose members of a population that are easy to contact or reach\n",
    "\n",
    "* **voluntary response sampling :**\n",
    "consists of members of a population who valunteer to participate in a study\n",
    "\n",
    "* **snowball sampling :**\n",
    "researchers recruit initial participants to be in a study and the ask them to recruit other people to participate in the study\n",
    "\n",
    "* **purposive sampling :**\n",
    "researchers select participants based on the purpose of their study\n"
   ]
  },
  {
   "cell_type": "markdown",
   "metadata": {},
   "source": [
    "> **point estimate** uses a single value to estimate a population parameter"
   ]
  },
  {
   "cell_type": "markdown",
   "metadata": {},
   "source": [
    "----\n",
    "\n",
    "### **sampling distribution :**\n",
    "\n",
    "A probability distribution of a sample statistic"
   ]
  },
  {
   "cell_type": "markdown",
   "metadata": {},
   "source": [
    "> Standard Deviation of sample distribution is also known as **standard error**\n",
    "\n",
    "        - bigger the std bigger the std error\n",
    "        - smaller the std smallr the std error"
   ]
  },
  {
   "cell_type": "markdown",
   "metadata": {},
   "source": [
    "-----\n",
    "\n",
    "### **Central Limit Theorem :**\n",
    "\n",
    "The sampling distribution of the mean approaches a normal distribution as teh sample size increases"
   ]
  },
  {
   "cell_type": "markdown",
   "metadata": {},
   "source": [
    "### **Inplementation in Python :**\n"
   ]
  },
  {
   "cell_type": "code",
   "execution_count": 1,
   "metadata": {},
   "outputs": [],
   "source": [
    "import numpy as np\n",
    "import pandas as pd\n",
    "import matplotlib.pyplot as plt"
   ]
  },
  {
   "cell_type": "code",
   "execution_count": 4,
   "metadata": {},
   "outputs": [
    {
     "data": {
      "text/plain": [
       "(13.151999999999997, 13.838)"
      ]
     },
     "execution_count": 4,
     "metadata": {},
     "output_type": "execute_result"
    }
   ],
   "source": [
    "data = pd.read_csv('Advertising.csv')\n",
    "sampled_data = data['Sales'].sample(n=50,replace=True,random_state=42).mean()\n",
    "sampled_data2 = data['Sales'].sample(n=50,replace=True,random_state=41).mean()\n",
    "sampled_data,sampled_data2"
   ]
  },
  {
   "cell_type": "code",
   "execution_count": 35,
   "metadata": {},
   "outputs": [],
   "source": [
    "estimate_list = []\n",
    "for i in range(100):\n",
    "    estimate_list.append(data['Sales'].sample(n=50,replace=True).mean())\n",
    "estimate_df = pd.DataFrame(data={'estimate':estimate_list})"
   ]
  },
  {
   "cell_type": "code",
   "execution_count": 37,
   "metadata": {},
   "outputs": [
    {
     "data": {
      "text/plain": [
       "(array([ 1.,  6.,  8., 14., 23., 15., 18.,  9.,  5.,  1.]),\n",
       " array([12.216 , 12.5908, 12.9656, 13.3404, 13.7152, 14.09  , 14.4648,\n",
       "        14.8396, 15.2144, 15.5892, 15.964 ]),\n",
       " <BarContainer object of 10 artists>)"
      ]
     },
     "execution_count": 37,
     "metadata": {},
     "output_type": "execute_result"
    },
    {
     "data": {
      "image/png": "[encoded data removed]",
      "text/plain": [
       "<Figure size 640x480 with 1 Axes>"
      ]
     },
     "metadata": {},
     "output_type": "display_data"
    }
   ],
   "source": [
    "plt.hist(estimate_df)"
   ]
  },
  {
   "cell_type": "code",
   "execution_count": 27,
   "metadata": {},
   "outputs": [
    {
     "data": {
      "text/plain": [
       "'population mean : 14.0225'"
      ]
     },
     "execution_count": 27,
     "metadata": {},
     "output_type": "execute_result"
    }
   ],
   "source": [
    "f'population mean : {data['Sales'].mean()}'"
   ]
  },
  {
   "cell_type": "code",
   "execution_count": 36,
   "metadata": {},
   "outputs": [
    {
     "data": {
      "text/plain": [
       "'mean of sample means : 14.08858'"
      ]
     },
     "execution_count": 36,
     "metadata": {},
     "output_type": "execute_result"
    }
   ],
   "source": [
    "f'mean of sample means : {estimate_df['estimate'].mean()}'"
   ]
  },
  {
   "cell_type": "markdown",
   "metadata": {},
   "source": [
    " ----\n",
    " ### **Confidence Interval :**\n",
    " A range of values that describes the uncertanity surrounding an estimate\n",
    "\n",
    " * Identifying a sample statistic\n",
    " * Choosing a confidence level\n",
    " * Finding the margin of error\n",
    " * Calculating the interval\n",
    " * Constructing confidence intervals for both means and proportions\n",
    " * Using Scipy stats"
   ]
  },
  {
   "cell_type": "markdown",
   "metadata": {},
   "source": [
    "##### **Frequentist vs Bayesian**\n",
    "    \n",
    "    - Confidence interval (Frequentist)\n",
    "    - Credible interval (Bayesian)\n",
    "\n"
   ]
  },
  {
   "cell_type": "markdown",
   "metadata": {},
   "source": [
    "> **Margin of error:** The maximum expected difference between a population parameter and a sample estimate\n",
    "\n",
    "    -  z-score * SE"
   ]
  },
  {
   "cell_type": "markdown",
   "metadata": {},
   "source": [
    "> **Confidence level** Describes the likelihood that a particulat sampling method will produce a confidence interval that includes the population parameter\n",
    "\n",
    "    - 90% or 95% or 99%"
   ]
  },
  {
   "cell_type": "markdown",
   "metadata": {},
   "source": [
    "#### Steps for constructing a confidence interval:\n",
    "\n",
    "* Identify a sample statistic:\n",
    "        - sales greater than 12 (proportion)\n",
    "* Choose a confidence level\n",
    "        -95%\n",
    "* Find the margin of error\n",
    "        - Margin of error = z-score * SE\n",
    "* Calculate the interval"
   ]
  },
  {
   "cell_type": "markdown",
   "metadata": {},
   "source": [
    "#### **Eg**\n",
    "\n",
    "* #### **Battery life**\n",
    "    \n",
    "    * sample mean = 20.5 hrs\n",
    "    * sample standard deviation = 1.7 hrs\n",
    "    * population standard deviation = 1.5 hrs\n",
    "\n",
    "* **Process**\n",
    "\n",
    "    * Identify a sample statistic: mean \n",
    "    * Confidence level: 95%\n",
    "    * standard error of the mean: SE = s/square root n = 1.5/square root 100 = 0.15\n",
    "    * Margin of error: Z-score * SE (for 95% = 1.96, 90% = 1.645, 99% = 2.58)\n",
    "    * Find the margin of error: z-score*SE = 1.96 * 0.15 = 0.294\n",
    "\n",
    "    * upper limit = sample means + margin of error = 20.5 + 0.294 = 20.794\n",
    "    * lower limit = saple maans - margin of error = 20.5 - 0.294 = 20.206\n",
    "\n",
    "    * Calculate the interval: 95% CI [20:12, 20:48]\n",
    "    * Confidence interval: 99% CI [20:07 , 20:53]\n",
    "\n",
    "     "
   ]
  },
  {
   "cell_type": "markdown",
   "metadata": {},
   "source": [
    "#### **Using python to construct confidence interval for a point estimate**"
   ]
  },
  {
   "cell_type": "code",
   "execution_count": null,
   "metadata": {},
   "outputs": [],
   "source": [
    "# random sample of sales : 50\n",
    "# no of total sales : 232"
   ]
  },
  {
   "cell_type": "markdown",
   "metadata": {},
   "source": [
    "construct a confidence interval based on 50 sample sales point estimate"
   ]
  },
  {
   "cell_type": "code",
   "execution_count": 52,
   "metadata": {},
   "outputs": [],
   "source": [
    "import numpy as np\n",
    "import pandas as pd\n",
    "from scipy import stats"
   ]
  },
  {
   "cell_type": "code",
   "execution_count": 53,
   "metadata": {},
   "outputs": [],
   "source": [
    "df = pd.read_csv('Advertising.csv')\n",
    "sales = df['Sales']\n",
    "sampled_data = sales.sample(n=50,replace=True,random_state=42)\n",
    "sample_mean = sampled_data.mean()"
   ]
  },
  {
   "cell_type": "code",
   "execution_count": 54,
   "metadata": {},
   "outputs": [
    {
     "data": {
      "text/plain": [
       "13.151999999999997"
      ]
     },
     "execution_count": 54,
     "metadata": {},
     "output_type": "execute_result"
    }
   ],
   "source": [
    "sample_mean"
   ]
  },
  {
   "cell_type": "code",
   "execution_count": 55,
   "metadata": {},
   "outputs": [
    {
     "data": {
      "text/plain": [
       "0.7378597836320309"
      ]
     },
     "execution_count": 55,
     "metadata": {},
     "output_type": "execute_result"
    }
   ],
   "source": [
    "estimated_standard_error = sales.std() / np.sqrt(sampled_data.shape[0])\n",
    "estimated_standard_error\n"
   ]
  },
  {
   "cell_type": "code",
   "execution_count": 57,
   "metadata": {},
   "outputs": [
    {
     "data": {
      "text/plain": [
       "(11.7058213984407, 14.598178601559296)"
      ]
     },
     "execution_count": 57,
     "metadata": {},
     "output_type": "execute_result"
    }
   ],
   "source": [
    "stats.norm.interval(confidence=0.95,loc=sample_mean,scale=estimated_standard_error)"
   ]
  },
  {
   "cell_type": "code",
   "execution_count": 58,
   "metadata": {},
   "outputs": [
    {
     "data": {
      "text/plain": [
       "(11.25139914741036, 15.052600852589634)"
      ]
     },
     "execution_count": 58,
     "metadata": {},
     "output_type": "execute_result"
    }
   ],
   "source": [
    "stats.norm.interval(confidence=0.99,loc=sample_mean,scale=estimated_standard_error)"
   ]
  },
  {
   "cell_type": "markdown",
   "metadata": {},
   "source": [
    "<a id = 'bottom'></a>\n",
    "\n",
    "<button style=\"background-color: blue; padding:2px; border-radius: 5px;\">\n",
    "\n",
    "  [GO TOP](#top)\n",
    "\n",
    "</button>"
   ]
  },
  {
   "cell_type": "markdown",
   "metadata": {},
   "source": []
  }
 ],
 "metadata": {
  "kernelspec": {
   "display_name": "main",
   "language": "python",
   "name": "python3"
  },
  "language_info": {
   "codemirror_mode": {
    "name": "ipython",
    "version": 3
   },
   "file_extension": ".py",
   "mimetype": "text/x-python",
   "name": "python",
   "nbconvert_exporter": "python",
   "pygments_lexer": "ipython3",
   "version": "3.12.4"
  }
 },
 "nbformat": 4,
 "nbformat_minor": 2
}
